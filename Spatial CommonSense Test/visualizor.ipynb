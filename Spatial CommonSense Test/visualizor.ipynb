{
 "cells": [
  {
   "cell_type": "code",
   "execution_count": null,
   "metadata": {},
   "outputs": [],
   "source": [
    "import numpy as np\n",
    "import cv2\n",
    "import random\n",
    "import json\n",
    "import pickle\n",
    "from pycocotools.coco import COCO\n",
    "import matplotlib.pyplot as plt\n",
    "import colorsys\n",
    "from matplotlib.widgets import Button\n",
    "import ipywidgets as widgets\n",
    "from IPython.display import display\n",
    "import time\n",
    "%matplotlib notebook"
   ]
  },
  {
   "cell_type": "code",
   "execution_count": null,
   "metadata": {},
   "outputs": [],
   "source": [
    "def draw_bboxes(img, bboxes, classes, xy_is_center=True):\n",
    "    img_w, img_h, _ = img.shape\n",
    "    unique_classes = list(set(classes))\n",
    "    #generate range of colors. One for each class present in the image\n",
    "    N = len(unique_classes)\n",
    "    HSV_tuples = [(x*1.0/N, 0.5, 0.5) for x in range(N)]\n",
    "    RGB_tuples = list(map(lambda x: colorsys.hsv_to_rgb(*x), HSV_tuples))\n",
    "    for i in range(len(classes)):\n",
    "        x,y,w,h = bboxes[i]\n",
    "        c = classes[i]\n",
    "        class_index = unique_classes.index(c)\n",
    "        class_color = RGB_tuples[class_index]\n",
    "        if xy_is_center:\n",
    "            start = int(img_w*(x-w/2)), int(img_h*(y-h/2))\n",
    "            end = int(img_w*(x+w/2)), int(img_h*(y+h/2))\n",
    "        else:\n",
    "            start = int(img_w*(x)), int(img_h*(y))\n",
    "            end = int(img_w*(x+w)), int(img_h*(y+h))\n",
    "        img = cv2.rectangle(img, start, end, class_color, img_w//256)\n",
    "        text_size = img_h//512\n",
    "        text_origin = list(start)\n",
    "        text_origin[1] = text_origin[1]+(text_size*20)\n",
    "        \n",
    "        img = cv2.putText(img, c, text_origin, cv2.FONT_HERSHEY_SIMPLEX, text_size, class_color)\n",
    "    return img"
   ]
  },
  {
   "cell_type": "code",
   "execution_count": null,
   "metadata": {},
   "outputs": [],
   "source": [
    "#model configurations:\n",
    "#encoder-decoder\n",
    "HIDDEN_SIZE = 768 #size of feature embeddings outputted by encoder and used by decoder (depends on the pretrained model used for encoding)\n",
    "TEMPERATURE = 0.4 #temperature to use in temperature softmax for sampling xy\n",
    "GPU_INDEX = 1\n",
    "\n",
    "# Dataset hyperparameters\n",
    "IMAGE_SIZE = (256, 256)\n",
    "UQ_CAP = True # Use one caption or all the captions. Values: False -> All the captions. True -> One caption\n",
    "\n",
    "MAX_OBJECTS = 10 # Maximum number of objects to use from the dataset\n",
    "NORMALIZE_INPUT = True # Normalize the pictures to range [0, 1].\n",
    "USE_ATTENTION = False # use attention in the decoder\n",
    "XY_DISTRIBUTION_SIZE = 32 # Size of grid use in the picture to approximate the bounding boxes.\n",
    "\n",
    "# Training\n",
    "STARTING_EPOCH = 80 #epoch to start  training back from. The STARTING_EPOCH th model, ie. model with index STARTING_EPOCH-1 will be loaded from CHECKPOINTS_PATH. If STARTING_EPOCH=0 or less no epoch will be loaded.\n",
    "EPOCHS = 30 # Number of epochs to train\n",
    "PRINT_EVERY = 500 # Print information about the model every n steps\n",
    "IS_TRAINING = False # Set the model to training or validation. Values: True -> Training mode. False -> Validation mode\n",
    "CHECKPOINTS_PATH = \"./checkpoints/1\" # Path to save the epochs and average losses\n",
    "PRETRAINED_ENCODER = False # Use the pretrained encoder\n",
    "FREEZE_ENCODER = False # Freeze the weights of the encoder\n",
    "ENCODER_PATH = None # Path of the pretrained encoder\n",
    "LEARNING_RATE = 5e-5"
   ]
  },
  {
   "cell_type": "code",
   "execution_count": null,
   "metadata": {},
   "outputs": [],
   "source": [
    "encoder = SentenceEncoder(FREEZE_ENCODER)\n",
    "\n",
    "decoder = DecoderRNN(vocab, hidden_size, is_training, use_attention=use_attention, bidirectional=bidirectional, xy_distribution_size=xy_distribution_size, temperature = TEMPERATURE)"
   ]
  }
 ],
 "metadata": {
  "language_info": {
   "name": "python"
  },
  "orig_nbformat": 4
 },
 "nbformat": 4,
 "nbformat_minor": 2
}
