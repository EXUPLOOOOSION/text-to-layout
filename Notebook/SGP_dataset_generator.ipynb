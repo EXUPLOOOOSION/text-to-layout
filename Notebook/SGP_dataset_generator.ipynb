{
 "cells": [
  {
   "cell_type": "markdown",
   "metadata": {},
   "source": [
    "### Imports"
   ]
  },
  {
   "cell_type": "markdown",
   "metadata": {},
   "source": [
    "Libraries that we need in order to make this work"
   ]
  },
  {
   "cell_type": "code",
   "execution_count": 1,
   "metadata": {},
   "outputs": [],
   "source": [
    "import json\n",
    "import sng_parser\n",
    "from pprint import pprint\n",
    "from time import time"
   ]
  },
  {
   "cell_type": "markdown",
   "metadata": {},
   "source": [
    "### Check parser"
   ]
  },
  {
   "cell_type": "markdown",
   "metadata": {},
   "source": [
    "First we check how the parser works and the structure of the output"
   ]
  },
  {
   "cell_type": "code",
   "execution_count": 2,
   "metadata": {
    "scrolled": true
   },
   "outputs": [
    {
     "name": "stdout",
     "output_type": "stream",
     "text": [
      "{'entities': [{'head': 'dog',\n",
      "               'lemma_head': 'dog',\n",
      "               'lemma_span': 'a dog',\n",
      "               'modifiers': [{'dep': 'det', 'lemma_span': 'a', 'span': 'A'}],\n",
      "               'span': 'A dog',\n",
      "               'span_bounds': (0, 2),\n",
      "               'type': 'unknown'},\n",
      "              {'head': 'cat',\n",
      "               'lemma_head': 'cat',\n",
      "               'lemma_span': 'a cat',\n",
      "               'modifiers': [{'dep': 'det', 'lemma_span': 'a', 'span': 'a'}],\n",
      "               'span': 'a cat',\n",
      "               'span_bounds': (3, 5),\n",
      "               'type': 'unknown'},\n",
      "              {'head': 'sidewalk',\n",
      "               'lemma_head': 'sidewalk',\n",
      "               'lemma_span': 'the sidewalk',\n",
      "               'modifiers': [{'dep': 'det',\n",
      "                              'lemma_span': 'the',\n",
      "                              'span': 'the'}],\n",
      "               'span': 'the sidewalk',\n",
      "               'span_bounds': (6, 8),\n",
      "               'type': 'unknown'}],\n",
      " 'relations': [{'lemma_relation': 'in',\n",
      "                'object': 2,\n",
      "                'relation': 'in',\n",
      "                'subject': 1}]}\n",
      "Entities:\n",
      "+----------+--------------+-------------+\n",
      "| Head     | Span         | Modifiers   |\n",
      "|----------+--------------+-------------|\n",
      "| dog      | a dog        | a           |\n",
      "| cat      | a cat        | a           |\n",
      "| sidewalk | the sidewalk | the         |\n",
      "+----------+--------------+-------------+\n",
      "Relations:\n",
      "+-----------+------------+----------+\n",
      "| Subject   | Relation   | Object   |\n",
      "|-----------+------------+----------|\n",
      "| cat       | in         | sidewalk |\n",
      "+-----------+------------+----------+\n"
     ]
    }
   ],
   "source": [
    "graph = sng_parser.parse(\"A dog and a cat in the sidewalk.\")\n",
    "pprint(graph)\n",
    "sng_parser.tprint(graph)"
   ]
  },
  {
   "cell_type": "code",
   "execution_count": 3,
   "metadata": {
    "scrolled": true
   },
   "outputs": [
    {
     "name": "stdout",
     "output_type": "stream",
     "text": [
      "{'entities': [{'head': 'tiger cat',\n",
      "               'lemma_head': 'tiger cat',\n",
      "               'lemma_span': 'a tiger cat',\n",
      "               'modifiers': [{'dep': 'det', 'lemma_span': 'a', 'span': 'A'}],\n",
      "               'span': 'A tiger cat',\n",
      "               'span_bounds': (0, 3),\n",
      "               'type': 'unknown'},\n",
      "              {'head': 'collar',\n",
      "               'lemma_head': 'collar',\n",
      "               'lemma_span': 'a collar',\n",
      "               'modifiers': [{'dep': 'det', 'lemma_span': 'a', 'span': 'a'}],\n",
      "               'span': 'a collar',\n",
      "               'span_bounds': (4, 6),\n",
      "               'type': 'unknown'},\n",
      "              {'head': 'gold tab',\n",
      "               'lemma_head': 'gold tab',\n",
      "               'lemma_span': 'a gold tab',\n",
      "               'modifiers': [{'dep': 'det', 'lemma_span': 'a', 'span': 'a'}],\n",
      "               'span': 'a gold tab',\n",
      "               'span_bounds': (7, 10),\n",
      "               'type': 'unknown'},\n",
      "              {'head': 'bed',\n",
      "               'lemma_head': 'bed',\n",
      "               'lemma_span': 'a bed',\n",
      "               'modifiers': [{'dep': 'det', 'lemma_span': 'a', 'span': 'a'}],\n",
      "               'span': 'a bed',\n",
      "               'span_bounds': (12, 14),\n",
      "               'type': 'unknown'}],\n",
      " 'relations': [{'lemma_relation': 'with',\n",
      "                'object': 1,\n",
      "                'relation': 'with',\n",
      "                'subject': 0},\n",
      "               {'lemma_relation': 'sit on',\n",
      "                'object': 3,\n",
      "                'relation': 'sitting on',\n",
      "                'subject': 2}]}\n",
      "Entities:\n",
      "+-----------+-------------+-------------+\n",
      "| Head      | Span        | Modifiers   |\n",
      "|-----------+-------------+-------------|\n",
      "| tiger cat | a tiger cat | a           |\n",
      "| collar    | a collar    | a           |\n",
      "| gold tab  | a gold tab  | a           |\n",
      "| bed       | a bed       | a           |\n",
      "+-----------+-------------+-------------+\n",
      "Relations:\n",
      "+-----------+------------+----------+\n",
      "| Subject   | Relation   | Object   |\n",
      "|-----------+------------+----------|\n",
      "| tiger cat | with       | collar   |\n",
      "| gold tab  | sitting on | bed      |\n",
      "+-----------+------------+----------+\n"
     ]
    }
   ],
   "source": [
    "graph = sng_parser.parse(\"A tiger cat with a collar and a gold tab sitting on a bed.\")\n",
    "pprint(graph)\n",
    "sng_parser.tprint(graph)"
   ]
  },
  {
   "cell_type": "markdown",
   "metadata": {},
   "source": [
    "### Captions files\n",
    "\n",
    "Captions files"
   ]
  },
  {
   "cell_type": "code",
   "execution_count": 5,
   "metadata": {},
   "outputs": [],
   "source": [
    "PATH_TRAIN = \"../RNN2LY/data/datasets/AMR2014train-dev-test/GraphTrain.json\"\n",
    "PATH_DEV = \"../RNN2LY/data/datasets/AMR2014train-dev-test/GraphDev.json\"\n",
    "PATH_VAL = \"../RNN2LY/data/datasets/AMR2014train-dev-test/GraphTest.json\""
   ]
  },
  {
   "cell_type": "code",
   "execution_count": 6,
   "metadata": {},
   "outputs": [],
   "source": [
    "DISPLAY_STEP = 1000"
   ]
  },
  {
   "cell_type": "markdown",
   "metadata": {},
   "source": [
    "### Check json files\n",
    "\n",
    "check one of the files and its structure"
   ]
  },
  {
   "cell_type": "code",
   "execution_count": 7,
   "metadata": {},
   "outputs": [],
   "source": [
    "with open(PATH_VAL, \"r\") as json_file:\n",
    "    data = json.load(json_file)"
   ]
  },
  {
   "cell_type": "code",
   "execution_count": 9,
   "metadata": {
    "scrolled": true
   },
   "outputs": [
    {
     "data": {
      "text/plain": [
       "{'image_filename': 'COCO_val2014_000000391895.jpg',\n",
       " 'width': 640,\n",
       " 'height': 360,\n",
       " 'valid_captions': 5,\n",
       " 'graphs': [{'caption_n': 1,\n",
       "   'caption': 'a man with a red helmet on a small moped on a dirt road',\n",
       "   'objects': [['have-03', 0],\n",
       "    ['man', 1],\n",
       "    ['helmet', 1],\n",
       "    ['red', 1],\n",
       "    ['road', 0],\n",
       "    ['dirt', 0]],\n",
       "   'relations': [':mod', ':location', ':ARG1', ':ARG0'],\n",
       "   'triples': [[['have-03', 0], ':ARG0', ['man', 1]],\n",
       "    [['have-03', 0], ':ARG1', ['helmet', 2]],\n",
       "    [['red', 3], ':ARG1', ['helmet', 2]],\n",
       "    [['man', 1], ':location', ['road', 4]],\n",
       "    [['road', 4], ':mod', ['dirt', 5]]]},\n",
       "  {'caption_n': 2,\n",
       "   'caption': 'man riding a motor bike on a dirt road on the countryside',\n",
       "   'objects': [['ride-01', 0],\n",
       "    ['man', 1],\n",
       "    ['bike', 1],\n",
       "    ['motor', 0],\n",
       "    ['road', 0],\n",
       "    ['countryside', 0],\n",
       "    ['dirt', 0]],\n",
       "   'relations': [':mod', ':location', ':ARG1', ':ARG0'],\n",
       "   'triples': [[['ride-01', 0], ':ARG0', ['man', 1]],\n",
       "    [['ride-01', 0], ':ARG1', ['bike', 2]],\n",
       "    [['bike', 2], ':mod', ['motor', 3]],\n",
       "    [['ride-01', 0], ':location', ['road', 4]],\n",
       "    [['road', 4], ':location', ['countryside', 5]],\n",
       "    [['road', 4], ':mod', ['dirt', 6]]]},\n",
       "  {'caption_n': 3,\n",
       "   'caption': 'a man riding on the back of a motorcycle',\n",
       "   'objects': [['ride-01', 0], ['man', 1], ['back', 1], ['motorcycle', 0]],\n",
       "   'relations': [':part', ':ARG1', ':ARG0'],\n",
       "   'triples': [[['ride-01', 0], ':ARG0', ['man', 1]],\n",
       "    [['ride-01', 0], ':ARG1', ['back', 2]],\n",
       "    [['motorcycle', 3], ':part', ['back', 2]]]},\n",
       "  {'caption_n': 4,\n",
       "   'caption': 'a dirt path with a young person on a motor bike rests to the foreground of a verdant area with a bridge and a background of cloud wreathed mountains',\n",
       "   'objects': [['sit-01', 0],\n",
       "    ['path', 1],\n",
       "    ['person', 0],\n",
       "    ['bike', 0],\n",
       "    ['motor', 0],\n",
       "    ['young', 0],\n",
       "    ['dirt', 0],\n",
       "    ['foreground', 1],\n",
       "    ['area', 1],\n",
       "    ['have-03', 0],\n",
       "    ['and', 0],\n",
       "    ['bridge', 1],\n",
       "    ['background', 1],\n",
       "    ['wreathe-01', 0],\n",
       "    ['cloud', 0],\n",
       "    ['verdant', 0]],\n",
       "   'relations': [':mod',\n",
       "    ':accompanier',\n",
       "    ':consist',\n",
       "    ':ARG1',\n",
       "    ':ARG2',\n",
       "    ':op1',\n",
       "    ':location',\n",
       "    ':op2'],\n",
       "   'triples': [[['sit-01', 0], ':ARG1', ['path', 1]],\n",
       "    [['path', 1], ':accompanier', ['person', 2]],\n",
       "    [['bike', 3], ':consist', ['person', 2]],\n",
       "    [['bike', 3], ':mod', ['motor', 4]],\n",
       "    [['person', 2], ':mod', ['young', 5]],\n",
       "    [['path', 1], ':mod', ['dirt', 6]],\n",
       "    [['sit-01', 0], ':ARG2', ['foreground', 7]],\n",
       "    [['foreground', 7], ':ARG2', ['area', 8]],\n",
       "    [['have-03', 9], ':location', ['area', 8]],\n",
       "    [['have-03', 9], ':ARG1', ['and', 10]],\n",
       "    [['and', 10], ':op1', ['bridge', 11]],\n",
       "    [['and', 10], ':op2', ['background', 12]],\n",
       "    [['wreathe-01', 13], ':ARG1', ['background', 12]],\n",
       "    [['cloud', 14], ':consist', ['wreathe-01', 13]],\n",
       "    [['area', 8], ':mod', ['verdant', 15]]]},\n",
       "  {'caption_n': 5,\n",
       "   'caption': 'a man in a red shirt and a red hat is on a motorcycle on a hill side',\n",
       "   'objects': [['be-located-at-91', 0],\n",
       "    ['man', 1],\n",
       "    ['wear-01', 0],\n",
       "    ['and', 0],\n",
       "    ['shirt', 1],\n",
       "    ['red-02', 0],\n",
       "    ['hat', 1],\n",
       "    ['red-02', 0],\n",
       "    ['motorcycle', 1],\n",
       "    ['side', 0],\n",
       "    ['hill', 0]],\n",
       "   'relations': [':mod',\n",
       "    ':ARG0',\n",
       "    ':ARG1',\n",
       "    ':ARG2',\n",
       "    ':op1',\n",
       "    ':location',\n",
       "    ':op2'],\n",
       "   'triples': [[['be-located-at-91', 0], ':ARG1', ['man', 1]],\n",
       "    [['wear-01', 2], ':ARG0', ['man', 1]],\n",
       "    [['wear-01', 2], ':ARG1', ['and', 3]],\n",
       "    [['and', 3], ':op1', ['shirt', 4]],\n",
       "    [['red-02', 5], ':ARG1', ['shirt', 4]],\n",
       "    [['and', 3], ':op2', ['hat', 6]],\n",
       "    [['red-02', 7], ':ARG1', ['hat', 6]],\n",
       "    [['be-located-at-91', 0], ':ARG2', ['motorcycle', 8]],\n",
       "    [['be-located-at-91', 0], ':location', ['side', 9]],\n",
       "    [['side', 9], ':mod', ['hill', 10]]]}]}"
      ]
     },
     "execution_count": 9,
     "metadata": {},
     "output_type": "execute_result"
    }
   ],
   "source": [
    "data['391895']"
   ]
  },
  {
   "cell_type": "markdown",
   "metadata": {},
   "source": [
    "### Generator"
   ]
  },
  {
   "cell_type": "markdown",
   "metadata": {},
   "source": [
    "Generate the graphs"
   ]
  },
  {
   "cell_type": "code",
   "execution_count": 27,
   "metadata": {},
   "outputs": [],
   "source": [
    "def generate_graphs(input_filename, output_filename):\n",
    "    \n",
    "    step = 0\n",
    "    output_dict = {}\n",
    "    \n",
    "    with open(input_filename, \"r\") as json_file:\n",
    "        data = json.load(json_file)\n",
    "        \n",
    "    for key, value in data.items():\n",
    "        \n",
    "        if step % DISPLAY_STEP == 0:\n",
    "            print(\"Steps:\", step, \"/\", len(data))\n",
    "        \n",
    "        output_dict[key] = {}\n",
    "        output_dict[key]['image_filename'] = value['image_filename']\n",
    "        output_dict[key]['width'] = value['width']\n",
    "        output_dict[key]['height'] = value['height']\n",
    "        output_dict[key]['valid_captions'] = 0\n",
    "        output_dict[key]['graphs'] = []\n",
    "        \n",
    "        for g in value['graphs']:\n",
    "            graph = sng_parser.parse(g['caption'])\n",
    "            \n",
    "            # If there is at least one relation add it to the dataset\n",
    "            if len(graph['relations']) > 0:\n",
    "                # Parse the graph. we are interested in objects, relations and triples.\n",
    "                objects, relations, triples = [], set(), []\n",
    "                obj_map = {}\n",
    "                for relation in graph['relations']:\n",
    "                    # obtain the relations\n",
    "                    sub, rel, obj = relation['subject'], relation['relation'], relation['object']\n",
    "                    # add the relaions\n",
    "                    relations.add(rel)\n",
    "                    # map the objects with the length of the map to differenciate different objects with the same name.\n",
    "                    # sub and obj are numbers\n",
    "                    if sub not in obj_map:\n",
    "                        obj_map[sub] = len(obj_map)\n",
    "                        objects.append([graph['entities'][sub]['head'], 1])\n",
    "                    if obj not in obj_map:\n",
    "                        obj_map[obj] = len(obj_map)\n",
    "                        objects.append([graph['entities'][obj]['head'], 1])\n",
    "                    triples.append([[graph['entities'][sub]['head'], obj_map[sub]], rel, [graph['entities'][obj]['head'], obj_map[obj]]])\n",
    "\n",
    "                # Increase by one the counter\n",
    "                output_dict[key]['valid_captions'] += 1\n",
    "                \n",
    "                # Generate the information and add it to the list\n",
    "                graph_info = {\n",
    "                    'caption_n': output_dict[key]['valid_captions'],\n",
    "                    'caption': g['caption'],\n",
    "                    'objects': objects,\n",
    "                    'relations': list(relations),\n",
    "                    'triples': triples\n",
    "                }\n",
    "\n",
    "                output_dict[key]['graphs'].append(graph_info)\n",
    "        step += 1\n",
    "    \n",
    "    with open(output_filename, \"w\") as json_file:\n",
    "        json.dump(output_dict, json_file)\n"
   ]
  },
  {
   "cell_type": "markdown",
   "metadata": {},
   "source": [
    "Function to generate the graphs given and input file and the output name"
   ]
  },
  {
   "cell_type": "code",
   "execution_count": 28,
   "metadata": {
    "scrolled": true
   },
   "outputs": [
    {
     "name": "stdout",
     "output_type": "stream",
     "text": [
      "Steps: 0 / 74504\n",
      "Steps: 1000 / 74504\n",
      "Steps: 2000 / 74504\n",
      "Steps: 3000 / 74504\n",
      "Steps: 4000 / 74504\n",
      "Steps: 5000 / 74504\n",
      "Steps: 6000 / 74504\n",
      "Steps: 7000 / 74504\n",
      "Steps: 8000 / 74504\n",
      "Steps: 9000 / 74504\n",
      "Steps: 10000 / 74504\n",
      "Steps: 11000 / 74504\n",
      "Steps: 12000 / 74504\n",
      "Steps: 13000 / 74504\n",
      "Steps: 14000 / 74504\n",
      "Steps: 15000 / 74504\n",
      "Steps: 16000 / 74504\n",
      "Steps: 17000 / 74504\n",
      "Steps: 18000 / 74504\n",
      "Steps: 19000 / 74504\n",
      "Steps: 20000 / 74504\n",
      "Steps: 21000 / 74504\n",
      "Steps: 22000 / 74504\n",
      "Steps: 23000 / 74504\n",
      "Steps: 24000 / 74504\n",
      "Steps: 25000 / 74504\n",
      "Steps: 26000 / 74504\n",
      "Steps: 27000 / 74504\n",
      "Steps: 28000 / 74504\n",
      "Steps: 29000 / 74504\n",
      "Steps: 30000 / 74504\n",
      "Steps: 31000 / 74504\n",
      "Steps: 32000 / 74504\n",
      "Steps: 33000 / 74504\n",
      "Steps: 34000 / 74504\n",
      "Steps: 35000 / 74504\n",
      "Steps: 36000 / 74504\n",
      "Steps: 37000 / 74504\n",
      "Steps: 38000 / 74504\n",
      "Steps: 39000 / 74504\n",
      "Steps: 40000 / 74504\n",
      "Steps: 41000 / 74504\n",
      "Steps: 42000 / 74504\n",
      "Steps: 43000 / 74504\n",
      "Steps: 44000 / 74504\n",
      "Steps: 45000 / 74504\n",
      "Steps: 46000 / 74504\n",
      "Steps: 47000 / 74504\n",
      "Steps: 48000 / 74504\n",
      "Steps: 49000 / 74504\n",
      "Steps: 50000 / 74504\n",
      "Steps: 51000 / 74504\n",
      "Steps: 52000 / 74504\n",
      "Steps: 53000 / 74504\n",
      "Steps: 54000 / 74504\n",
      "Steps: 55000 / 74504\n",
      "Steps: 56000 / 74504\n",
      "Steps: 57000 / 74504\n",
      "Steps: 58000 / 74504\n",
      "Steps: 59000 / 74504\n",
      "Steps: 60000 / 74504\n",
      "Steps: 61000 / 74504\n",
      "Steps: 62000 / 74504\n",
      "Steps: 63000 / 74504\n",
      "Steps: 64000 / 74504\n",
      "Steps: 65000 / 74504\n",
      "Steps: 66000 / 74504\n",
      "Steps: 67000 / 74504\n",
      "Steps: 68000 / 74504\n",
      "Steps: 69000 / 74504\n",
      "Steps: 70000 / 74504\n",
      "Steps: 71000 / 74504\n",
      "Steps: 72000 / 74504\n",
      "Steps: 73000 / 74504\n",
      "Steps: 74000 / 74504\n"
     ]
    }
   ],
   "source": [
    "generate_graphs(PATH_TRAIN, \"../RNN2LY/data/datasets/SGP-train-dev-test/GraphTrain.json\")"
   ]
  },
  {
   "cell_type": "code",
   "execution_count": 29,
   "metadata": {},
   "outputs": [
    {
     "name": "stdout",
     "output_type": "stream",
     "text": [
      "Steps: 0 / 8279\n",
      "Steps: 1000 / 8279\n",
      "Steps: 2000 / 8279\n",
      "Steps: 3000 / 8279\n",
      "Steps: 4000 / 8279\n",
      "Steps: 5000 / 8279\n",
      "Steps: 6000 / 8279\n",
      "Steps: 7000 / 8279\n",
      "Steps: 8000 / 8279\n"
     ]
    }
   ],
   "source": [
    "generate_graphs(PATH_DEV, \"../RNN2LY/data/datasets/SGP-train-dev-test/GraphDev.json\")"
   ]
  },
  {
   "cell_type": "code",
   "execution_count": 30,
   "metadata": {
    "scrolled": true
   },
   "outputs": [
    {
     "name": "stdout",
     "output_type": "stream",
     "text": [
      "Steps: 0 / 40504\n",
      "Steps: 1000 / 40504\n",
      "Steps: 2000 / 40504\n",
      "Steps: 3000 / 40504\n",
      "Steps: 4000 / 40504\n",
      "Steps: 5000 / 40504\n",
      "Steps: 6000 / 40504\n",
      "Steps: 7000 / 40504\n",
      "Steps: 8000 / 40504\n",
      "Steps: 9000 / 40504\n",
      "Steps: 10000 / 40504\n",
      "Steps: 11000 / 40504\n",
      "Steps: 12000 / 40504\n",
      "Steps: 13000 / 40504\n",
      "Steps: 14000 / 40504\n",
      "Steps: 15000 / 40504\n",
      "Steps: 16000 / 40504\n",
      "Steps: 17000 / 40504\n",
      "Steps: 18000 / 40504\n",
      "Steps: 19000 / 40504\n",
      "Steps: 20000 / 40504\n",
      "Steps: 21000 / 40504\n",
      "Steps: 22000 / 40504\n",
      "Steps: 23000 / 40504\n",
      "Steps: 24000 / 40504\n",
      "Steps: 25000 / 40504\n",
      "Steps: 26000 / 40504\n",
      "Steps: 27000 / 40504\n",
      "Steps: 28000 / 40504\n",
      "Steps: 29000 / 40504\n",
      "Steps: 30000 / 40504\n",
      "Steps: 31000 / 40504\n",
      "Steps: 32000 / 40504\n",
      "Steps: 33000 / 40504\n",
      "Steps: 34000 / 40504\n",
      "Steps: 35000 / 40504\n",
      "Steps: 36000 / 40504\n",
      "Steps: 37000 / 40504\n",
      "Steps: 38000 / 40504\n",
      "Steps: 39000 / 40504\n",
      "Steps: 40000 / 40504\n"
     ]
    }
   ],
   "source": [
    "generate_graphs(PATH_VAL, \"../RNN2LY/data/datasets/SGP-train-dev-test/GraphTest.json\")"
   ]
  }
 ],
 "metadata": {
  "kernelspec": {
   "display_name": "Python 3",
   "language": "python",
   "name": "python3"
  },
  "language_info": {
   "codemirror_mode": {
    "name": "ipython",
    "version": 3
   },
   "file_extension": ".py",
   "mimetype": "text/x-python",
   "name": "python",
   "nbconvert_exporter": "python",
   "pygments_lexer": "ipython3",
   "version": "3.8.5"
  }
 },
 "nbformat": 4,
 "nbformat_minor": 4
}
