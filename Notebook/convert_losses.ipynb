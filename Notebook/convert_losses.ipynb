{
 "cells": [
  {
   "cell_type": "markdown",
   "metadata": {},
   "source": [
    "This notebook converts the training losses from txt format to excel format"
   ]
  },
  {
   "cell_type": "code",
   "execution_count": 1,
   "metadata": {},
   "outputs": [
    {
     "ename": "ModuleNotFoundError",
     "evalue": "No module named 'openpyxl'",
     "output_type": "error",
     "traceback": [
      "\u001b[1;31m---------------------------------------------------------------------------\u001b[0m",
      "\u001b[1;31mModuleNotFoundError\u001b[0m                       Traceback (most recent call last)",
      "\u001b[1;32m~\\AppData\\Local\\Temp/ipykernel_10612/3562835713.py\u001b[0m in \u001b[0;36m<module>\u001b[1;34m\u001b[0m\n\u001b[0;32m      1\u001b[0m \u001b[1;32mimport\u001b[0m \u001b[0mglob\u001b[0m\u001b[1;33m\u001b[0m\u001b[1;33m\u001b[0m\u001b[0m\n\u001b[1;32m----> 2\u001b[1;33m \u001b[1;32mfrom\u001b[0m \u001b[0mopenpyxl\u001b[0m \u001b[1;32mimport\u001b[0m \u001b[0mWorkbook\u001b[0m\u001b[1;33m\u001b[0m\u001b[1;33m\u001b[0m\u001b[0m\n\u001b[0m",
      "\u001b[1;31mModuleNotFoundError\u001b[0m: No module named 'openpyxl'"
     ]
    }
   ],
   "source": [
    "import glob\n",
    "from openpyxl import Workbook"
   ]
  },
  {
   "cell_type": "code",
   "execution_count": 2,
   "metadata": {},
   "outputs": [],
   "source": [
    "# Specify here the path\n",
    "V = \"5\"\n",
    "PATH = \"../TRAN2LYavg/evaluator_output/\"+ V +\"/losses/*\""
   ]
  },
  {
   "cell_type": "code",
   "execution_count": 3,
   "metadata": {},
   "outputs": [],
   "source": [
    "files = list(glob.glob(PATH))\n",
    "files.sort(key=lambda x: (\"precision\" in x, len(x), x))"
   ]
  },
  {
   "cell_type": "code",
   "execution_count": 4,
   "metadata": {
    "scrolled": false
   },
   "outputs": [
    {
     "data": {
      "text/plain": [
       "['../TRAN2LY/evaluator_output/6/losses/TRAININGlosses0.txt',\n",
       " '../TRAN2LY/evaluator_output/6/losses/TRAININGlosses1.txt',\n",
       " '../TRAN2LY/evaluator_output/6/losses/TRAININGlosses2.txt',\n",
       " '../TRAN2LY/evaluator_output/6/losses/TRAININGlosses3.txt',\n",
       " '../TRAN2LY/evaluator_output/6/losses/TRAININGlosses4.txt',\n",
       " '../TRAN2LY/evaluator_output/6/losses/TRAININGlosses5.txt',\n",
       " '../TRAN2LY/evaluator_output/6/losses/TRAININGlosses6.txt',\n",
       " '../TRAN2LY/evaluator_output/6/losses/TRAININGlosses7.txt',\n",
       " '../TRAN2LY/evaluator_output/6/losses/TRAININGlosses8.txt',\n",
       " '../TRAN2LY/evaluator_output/6/losses/TRAININGlosses9.txt',\n",
       " '../TRAN2LY/evaluator_output/6/losses/TRAININGlosses10.txt',\n",
       " '../TRAN2LY/evaluator_output/6/losses/TRAININGlosses11.txt',\n",
       " '../TRAN2LY/evaluator_output/6/losses/TRAININGlosses12.txt',\n",
       " '../TRAN2LY/evaluator_output/6/losses/TRAININGlosses13.txt',\n",
       " '../TRAN2LY/evaluator_output/6/losses/TRAININGlosses14.txt',\n",
       " '../TRAN2LY/evaluator_output/6/losses/TRAININGlosses15.txt',\n",
       " '../TRAN2LY/evaluator_output/6/losses/TRAININGlosses16.txt',\n",
       " '../TRAN2LY/evaluator_output/6/losses/TRAININGlosses17.txt',\n",
       " '../TRAN2LY/evaluator_output/6/losses/TRAININGlosses18.txt',\n",
       " '../TRAN2LY/evaluator_output/6/losses/TRAININGlosses19.txt',\n",
       " '../TRAN2LY/evaluator_output/6/losses/TRAININGlosses20.txt',\n",
       " '../TRAN2LY/evaluator_output/6/losses/TRAININGlosses21.txt',\n",
       " '../TRAN2LY/evaluator_output/6/losses/TRAININGlosses22.txt',\n",
       " '../TRAN2LY/evaluator_output/6/losses/TRAININGlosses23.txt',\n",
       " '../TRAN2LY/evaluator_output/6/losses/TRAININGlosses24.txt',\n",
       " '../TRAN2LY/evaluator_output/6/losses/TRAININGlosses25.txt',\n",
       " '../TRAN2LY/evaluator_output/6/losses/TRAININGlosses26.txt',\n",
       " '../TRAN2LY/evaluator_output/6/losses/TRAININGlosses27.txt',\n",
       " '../TRAN2LY/evaluator_output/6/losses/TRAININGlosses28.txt',\n",
       " '../TRAN2LY/evaluator_output/6/losses/TRAININGlosses29.txt',\n",
       " '../TRAN2LY/evaluator_output/6/losses/TRAININGlosses30.txt',\n",
       " '../TRAN2LY/evaluator_output/6/losses/TRAININGlosses31.txt',\n",
       " '../TRAN2LY/evaluator_output/6/losses/DEVELOPMENTlosses0.txt',\n",
       " '../TRAN2LY/evaluator_output/6/losses/DEVELOPMENTlosses1.txt',\n",
       " '../TRAN2LY/evaluator_output/6/losses/DEVELOPMENTlosses2.txt',\n",
       " '../TRAN2LY/evaluator_output/6/losses/DEVELOPMENTlosses3.txt',\n",
       " '../TRAN2LY/evaluator_output/6/losses/DEVELOPMENTlosses4.txt',\n",
       " '../TRAN2LY/evaluator_output/6/losses/DEVELOPMENTlosses5.txt',\n",
       " '../TRAN2LY/evaluator_output/6/losses/DEVELOPMENTlosses6.txt',\n",
       " '../TRAN2LY/evaluator_output/6/losses/DEVELOPMENTlosses7.txt',\n",
       " '../TRAN2LY/evaluator_output/6/losses/DEVELOPMENTlosses8.txt',\n",
       " '../TRAN2LY/evaluator_output/6/losses/DEVELOPMENTlosses9.txt',\n",
       " '../TRAN2LY/evaluator_output/6/losses/DEVELOPMENTlosses10.txt',\n",
       " '../TRAN2LY/evaluator_output/6/losses/DEVELOPMENTlosses11.txt',\n",
       " '../TRAN2LY/evaluator_output/6/losses/DEVELOPMENTlosses12.txt',\n",
       " '../TRAN2LY/evaluator_output/6/losses/DEVELOPMENTlosses13.txt',\n",
       " '../TRAN2LY/evaluator_output/6/losses/DEVELOPMENTlosses14.txt',\n",
       " '../TRAN2LY/evaluator_output/6/losses/DEVELOPMENTlosses15.txt',\n",
       " '../TRAN2LY/evaluator_output/6/losses/DEVELOPMENTlosses16.txt',\n",
       " '../TRAN2LY/evaluator_output/6/losses/DEVELOPMENTlosses17.txt',\n",
       " '../TRAN2LY/evaluator_output/6/losses/DEVELOPMENTlosses18.txt',\n",
       " '../TRAN2LY/evaluator_output/6/losses/DEVELOPMENTlosses19.txt',\n",
       " '../TRAN2LY/evaluator_output/6/losses/DEVELOPMENTlosses20.txt',\n",
       " '../TRAN2LY/evaluator_output/6/losses/DEVELOPMENTlosses21.txt',\n",
       " '../TRAN2LY/evaluator_output/6/losses/DEVELOPMENTlosses22.txt',\n",
       " '../TRAN2LY/evaluator_output/6/losses/DEVELOPMENTlosses23.txt',\n",
       " '../TRAN2LY/evaluator_output/6/losses/DEVELOPMENTlosses24.txt',\n",
       " '../TRAN2LY/evaluator_output/6/losses/DEVELOPMENTlosses25.txt',\n",
       " '../TRAN2LY/evaluator_output/6/losses/DEVELOPMENTlosses26.txt',\n",
       " '../TRAN2LY/evaluator_output/6/losses/DEVELOPMENTlosses27.txt',\n",
       " '../TRAN2LY/evaluator_output/6/losses/DEVELOPMENTlosses28.txt',\n",
       " '../TRAN2LY/evaluator_output/6/losses/DEVELOPMENTlosses29.txt',\n",
       " '../TRAN2LY/evaluator_output/6/losses/DEVELOPMENTlosses30.txt',\n",
       " '../TRAN2LY/evaluator_output/6/losses/DEVELOPMENTlosses31.txt']"
      ]
     },
     "execution_count": 4,
     "metadata": {},
     "output_type": "execute_result"
    }
   ],
   "source": [
    "files"
   ]
  },
  {
   "cell_type": "code",
   "execution_count": 5,
   "metadata": {},
   "outputs": [],
   "source": [
    "contents = {}"
   ]
  },
  {
   "cell_type": "code",
   "execution_count": 6,
   "metadata": {},
   "outputs": [],
   "source": [
    "i = 1\n",
    "found = False\n",
    "for file in files:\n",
    "    \n",
    "    if \"DEVELOPMENT\" in file and not found:\n",
    "        i += 1\n",
    "        found = True\n",
    "    with open(file, \"r\") as f:\n",
    "        lines = f.readline()\n",
    "        losses = lines.split(\" \")\n",
    "        contents[i] = {\n",
    "            \"class\": losses[0],\n",
    "            \"bbox_xy\": losses[1],\n",
    "            \"bbox_wh\": losses[2],\n",
    "            \"bbox_xy_MSE\": losses[3]\n",
    "        }\n",
    "    i+= 1"
   ]
  },
  {
   "cell_type": "code",
   "execution_count": 7,
   "metadata": {},
   "outputs": [],
   "source": [
    "workbook = Workbook()\n",
    "sheet = workbook.active"
   ]
  },
  {
   "cell_type": "code",
   "execution_count": 8,
   "metadata": {},
   "outputs": [],
   "source": [
    "for key, value in contents.items():\n",
    "    sheet[\"A\"+str(key)] = str(contents[key][\"class\"]).replace(\".\", \",\")\n",
    "    sheet[\"B\"+str(key)] = str(contents[key][\"bbox_xy\"]).replace(\".\", \",\")\n",
    "    sheet[\"C\"+str(key)] = str(contents[key][\"bbox_wh\"]).replace(\".\", \",\")\n",
    "    sheet[\"D\"+str(key)] = str(contents[key][\"bbox_xy_MSE\"]).replace(\".\", \",\")\n",
    "    "
   ]
  },
  {
   "cell_type": "code",
   "execution_count": 9,
   "metadata": {},
   "outputs": [],
   "source": [
    "workbook.save(filename=PATH[:-1] + \"excel.xlsx\")"
   ]
  },
  {
   "cell_type": "code",
   "execution_count": null,
   "metadata": {},
   "outputs": [],
   "source": []
  }
 ],
 "metadata": {
  "kernelspec": {
   "display_name": "Python 3 (ipykernel)",
   "language": "python",
   "name": "python3"
  },
  "language_info": {
   "codemirror_mode": {
    "name": "ipython",
    "version": 3
   },
   "file_extension": ".py",
   "mimetype": "text/x-python",
   "name": "python",
   "nbconvert_exporter": "python",
   "pygments_lexer": "ipython3",
   "version": "3.9.7"
  }
 },
 "nbformat": 4,
 "nbformat_minor": 4
}
